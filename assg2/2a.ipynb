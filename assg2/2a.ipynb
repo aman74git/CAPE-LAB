{
 "cells": [
  {
   "cell_type": "code",
   "execution_count": 45,
   "metadata": {},
   "outputs": [],
   "source": [
    "import sympy as sp\n",
    "import time\n",
    "from tabulate import tabulate"
   ]
  },
  {
   "cell_type": "code",
   "execution_count": 46,
   "metadata": {},
   "outputs": [],
   "source": [
    "#given values hot fluid: lube oil, cold fluid: crude oil\n",
    "values = {\n",
    "    'M_c': 72500, #lp/h\n",
    "    'M_h': 6900, #lp/h, \n",
    "    'Cp_h': 0.62, #Btu/(lb degF)\n",
    "    'Cp_c': 0.585, #Btu/(lb degF)\n",
    "    'T_hi': 450, #degF\n",
    "    'T_ci': 300 ,#degF \n",
    "    'U':28.2, #Btu/(hr ft2 degF)\n",
    "    'A': 173 #ft2\n",
    "}"
   ]
  },
  {
   "cell_type": "code",
   "execution_count": 47,
   "metadata": {},
   "outputs": [],
   "source": [
    "#handle absurd values\n",
    "\n",
    "if(values['T_hi'] < values['T_ci']):\n",
    "    print(\"Hot fluid temperature is lower than cold fluid temperature. Please check the values.\")\n",
    "    exit()\n",
    "\n",
    "for key in values:\n",
    "    if(values[key] <= 0):\n",
    "        print(\"Unexpected value found for \" + key + \". Please check the values.\")\n",
    "        exit()"
   ]
  },
  {
   "cell_type": "code",
   "execution_count": 48,
   "metadata": {},
   "outputs": [],
   "source": [
    "T_hi, T_ci, T_co, M_c, M_h, Cp_c, Cp_h, U, A = sp.symbols('T_hi T_ci T_co M_c M_h Cp_c Cp_h U A', real=True)"
   ]
  },
  {
   "cell_type": "code",
   "execution_count": 49,
   "metadata": {},
   "outputs": [
    {
     "data": {
      "text/latex": [
       "$\\displaystyle - \\frac{Cp_{c} M_{c} \\left(- T_{ci} + T_{co}\\right)}{Cp_{h} M_{h}} + T_{hi}$"
      ],
      "text/plain": [
       "-Cp_c*M_c*(-T_ci + T_co)/(Cp_h*M_h) + T_hi"
      ]
     },
     "execution_count": 49,
     "metadata": {},
     "output_type": "execute_result"
    }
   ],
   "source": [
    "T_ho = T_hi - (M_c*Cp_c*(T_co-T_ci)/(M_h*Cp_h))\n",
    "T_ho"
   ]
  },
  {
   "cell_type": "code",
   "execution_count": 50,
   "metadata": {},
   "outputs": [],
   "source": [
    "def lmtd(delT1, delT2):\n",
    "    return (delT1-delT2)/sp.log(delT1/delT2)"
   ]
  },
  {
   "attachments": {},
   "cell_type": "markdown",
   "metadata": {},
   "source": [
    "### co-current\n"
   ]
  },
  {
   "cell_type": "code",
   "execution_count": 51,
   "metadata": {},
   "outputs": [],
   "source": [
    "delT1 = T_hi - T_ci\n",
    "delT2 = T_ho-T_co"
   ]
  },
  {
   "cell_type": "code",
   "execution_count": 52,
   "metadata": {},
   "outputs": [
    {
     "data": {
      "text/latex": [
       "$\\displaystyle \\frac{A U \\left(\\frac{Cp_{c} M_{c} \\left(- T_{ci} + T_{co}\\right)}{Cp_{h} M_{h}} - T_{ci} + T_{co}\\right)}{\\log{\\left(\\frac{- T_{ci} + T_{hi}}{- \\frac{Cp_{c} M_{c} \\left(- T_{ci} + T_{co}\\right)}{Cp_{h} M_{h}} - T_{co} + T_{hi}} \\right)}} - Cp_{c} M_{c} \\left(- T_{ci} + T_{co}\\right)$"
      ],
      "text/plain": [
       "A*U*(Cp_c*M_c*(-T_ci + T_co)/(Cp_h*M_h) - T_ci + T_co)/log((-T_ci + T_hi)/(-Cp_c*M_c*(-T_ci + T_co)/(Cp_h*M_h) - T_co + T_hi)) - Cp_c*M_c*(-T_ci + T_co)"
      ]
     },
     "execution_count": 52,
     "metadata": {},
     "output_type": "execute_result"
    }
   ],
   "source": [
    "f = U*A*lmtd(delT1,delT2) - M_h*Cp_h*(T_hi-T_ho)\n",
    "f"
   ]
  },
  {
   "cell_type": "code",
   "execution_count": 53,
   "metadata": {},
   "outputs": [
    {
     "data": {
      "text/latex": [
       "$\\displaystyle - 42412.5 T_{co} + \\frac{4878.6 \\cdot \\left(10.914095371669 T_{co} - 3274.2286115007\\right)}{\\log{\\left(\\frac{150}{3424.2286115007 - 10.914095371669 T_{co}} \\right)}} + 12723750.0$"
      ],
      "text/plain": [
       "-42412.5*T_co + 4878.6*(10.914095371669*T_co - 3274.2286115007)/log(150/(3424.2286115007 - 10.914095371669*T_co)) + 12723750.0"
      ]
     },
     "execution_count": 53,
     "metadata": {},
     "output_type": "execute_result"
    }
   ],
   "source": [
    "#subsituting values\n",
    "\n",
    "f = f.subs([\n",
    "    (M_c,values['M_c']),\n",
    "    (M_h, values['M_h']),\n",
    "    (Cp_c, values['Cp_c']),\n",
    "    (Cp_h, values['Cp_h']),\n",
    "    (T_hi, values['T_hi']),\n",
    "    (T_ci, values['T_ci']),\n",
    "    (U, values['U']),\n",
    "    (A, values['A']),\n",
    "]).evalf()\n",
    "f"
   ]
  },
  {
   "cell_type": "code",
   "execution_count": 54,
   "metadata": {},
   "outputs": [
    {
     "data": {
      "text/latex": [
       "$\\displaystyle -42412.5 + \\frac{53245.5056802244}{\\log{\\left(\\frac{150}{3424.2286115007 - 10.914095371669 T_{co}} \\right)}} - \\frac{0.681159332966027 \\cdot \\left(22.828190743338 - 0.0727606358111267 T_{co}\\right) \\left(10.914095371669 T_{co} - 3274.2286115007\\right)}{\\left(1 - 0.00318731504520833 T_{co}\\right)^{2} \\log{\\left(\\frac{150}{3424.2286115007 - 10.914095371669 T_{co}} \\right)}^{2}}$"
      ],
      "text/plain": [
       "-42412.5 + 53245.5056802244/log(150/(3424.2286115007 - 10.914095371669*T_co)) - 0.681159332966027*(22.828190743338 - 0.0727606358111267*T_co)*(10.914095371669*T_co - 3274.2286115007)/((1 - 0.00318731504520833*T_co)**2*log(150/(3424.2286115007 - 10.914095371669*T_co))**2)"
      ]
     },
     "execution_count": 54,
     "metadata": {},
     "output_type": "execute_result"
    }
   ],
   "source": [
    "#differentiating\n",
    "\n",
    "df_dTco = sp.diff(f, T_co)\n",
    "df_dTco"
   ]
  },
  {
   "cell_type": "code",
   "execution_count": 55,
   "metadata": {},
   "outputs": [],
   "source": [
    "itr_table = []\n",
    "def NR(fn, dfn_dTco, T_co_prev, tol, itr=1):\n",
    "    decimal_places = int(-sp.log(tol, 10).evalf()+1)\n",
    "\n",
    "    # NR definition: Xk+1 = Xk - f(k)/f'(k)\n",
    "    T_co_next = (T_co_prev - fn/dfn_dTco).subs(T_co, T_co_prev).round(decimal_places)\n",
    "    err = abs(T_co_next - T_co_prev)\n",
    "    # store the iteration in table\n",
    "    itr_table.append([itr,\n",
    "                      T_co_prev,\n",
    "                      T_co_next,\n",
    "                      fn.subs(T_co, T_co_prev).round(6),\n",
    "                      fn.subs(T_co, T_co_next).round(decimal_places),\n",
    "                      err])\n",
    "\n",
    "    # if less than tolerance then return\n",
    "    if err < tol:\n",
    "        return T_co_next\n",
    "\n",
    "    # # else go for next iteration\n",
    "    itr += 1\n",
    "    return NR(fn, dfn_dTco, T_co_next, tol, itr)\n",
    " \n"
   ]
  },
  {
   "cell_type": "code",
   "execution_count": 56,
   "metadata": {},
   "outputs": [
    {
     "name": "stdout",
     "output_type": "stream",
     "text": [
      "T_co: 309.8273 degF\n",
      "Time taken: 0.07142233848571777 second\n",
      "╒═══════╤═══════════╤═══════════╤═══════════════╤═══════════════╤═════════════╕\n",
      "│   itr │   Vm_prev │   Vm_next │   fn(Vm_prev) │   fn(Vm_next) │       error │\n",
      "╞═══════╪═══════════╪═══════════╪═══════════════╪═══════════════╪═════════════╡\n",
      "│     1 │   301     │   310.501 │  662420       │   -58237.3    │ 9.5013      │\n",
      "├───────┼───────────┼───────────┼───────────────┼───────────────┼─────────────┤\n",
      "│     2 │   310.501 │   309.841 │  -58237.3     │    -1175.09   │ 0.660099    │\n",
      "├───────┼───────────┼───────────┼───────────────┼───────────────┼─────────────┤\n",
      "│     3 │   309.841 │   309.827 │   -1175.09    │       -4.6556 │ 0.0138016   │\n",
      "├───────┼───────────┼───────────┼───────────────┼───────────────┼─────────────┤\n",
      "│     4 │   309.827 │   309.827 │      -4.65557 │        3.7524 │ 9.91821e-05 │\n",
      "╘═══════╧═══════════╧═══════════╧═══════════════╧═══════════════╧═════════════╛\n"
     ]
    }
   ],
   "source": [
    "itr_table = [['itr', 'Vm_prev', 'Vm_next',\n",
    "              'fn(Vm_prev)', 'fn(Vm_next)', 'error']]\n",
    "initial_guess = 301\n",
    "tolerance = 1e-3\n",
    "start = time.time()\n",
    "\n",
    "#try except block to handle abstard values\n",
    "try:\n",
    "  result_NR = NR(f, df_dTco, initial_guess, tolerance)\n",
    "  end = time.time()\n",
    "  print('T_co:', str(result_NR)+' degF')\n",
    "  print(f'Time taken: {end-start} second')\n",
    "  print(tabulate(itr_table, headers='firstrow', tablefmt='fancy_grid'))\n",
    "\n",
    "except:\n",
    "  print('Error: T_co is not found. Please check the values entered.')\n",
    "  exit()"
   ]
  },
  {
   "cell_type": "code",
   "execution_count": 57,
   "metadata": {},
   "outputs": [],
   "source": [
    "#result from NR is T_co\n",
    "T_co_co_curr = T_co.subs(T_co, result_NR)\n",
    "\n",
    "#subsituting T_co in T_ho to evaulate T_ho\n",
    "T_ho_co_curr = T_ho.subs([\n",
    "  (M_c,values['M_c']),\n",
    "  (M_h, values['M_h']),\n",
    "  (Cp_c, values['Cp_c']),\n",
    "  (Cp_h, values['Cp_h']),\n",
    "  (T_hi, values['T_hi']),\n",
    "  (T_ci, values['T_ci']),\n",
    "  (T_co, T_co_co_curr),\n",
    "]).evalf().round(int(-sp.log(tolerance, 10).evalf()+1))\n"
   ]
  },
  {
   "cell_type": "code",
   "execution_count": 58,
   "metadata": {},
   "outputs": [
    {
     "name": "stdout",
     "output_type": "stream",
     "text": [
      "For co-current flow, T_co = 309.8273 degF and T_ho = 352.5712 degF\n"
     ]
    }
   ],
   "source": [
    "print('For co-current flow, T_co =', T_co_co_curr, 'degF', 'and T_ho =', T_ho_co_curr, 'degF')"
   ]
  },
  {
   "attachments": {},
   "cell_type": "markdown",
   "metadata": {},
   "source": [
    "### Counter-Current\n"
   ]
  },
  {
   "cell_type": "code",
   "execution_count": 59,
   "metadata": {},
   "outputs": [],
   "source": [
    "delT1 = T_hi - T_co\n",
    "delT2 = T_ho-T_ci"
   ]
  },
  {
   "cell_type": "code",
   "execution_count": 60,
   "metadata": {},
   "outputs": [
    {
     "data": {
      "text/latex": [
       "$\\displaystyle \\frac{A U \\left(\\frac{Cp_{c} M_{c} \\left(- T_{ci} + T_{co}\\right)}{Cp_{h} M_{h}} + T_{ci} - T_{co}\\right)}{\\log{\\left(\\frac{- T_{co} + T_{hi}}{- \\frac{Cp_{c} M_{c} \\left(- T_{ci} + T_{co}\\right)}{Cp_{h} M_{h}} - T_{ci} + T_{hi}} \\right)}} - Cp_{c} M_{c} \\left(- T_{ci} + T_{co}\\right)$"
      ],
      "text/plain": [
       "A*U*(Cp_c*M_c*(-T_ci + T_co)/(Cp_h*M_h) + T_ci - T_co)/log((-T_co + T_hi)/(-Cp_c*M_c*(-T_ci + T_co)/(Cp_h*M_h) - T_ci + T_hi)) - Cp_c*M_c*(-T_ci + T_co)"
      ]
     },
     "execution_count": 60,
     "metadata": {},
     "output_type": "execute_result"
    }
   ],
   "source": [
    "f = U*A*lmtd(delT1,delT2) - M_h*Cp_h*(T_hi-T_ho)\n",
    "f"
   ]
  },
  {
   "cell_type": "code",
   "execution_count": 61,
   "metadata": {},
   "outputs": [
    {
     "data": {
      "text/latex": [
       "$\\displaystyle - 42412.5 T_{co} + \\frac{4878.6 \\cdot \\left(8.914095371669 T_{co} - 2674.2286115007\\right)}{\\log{\\left(\\frac{450 - T_{co}}{3124.2286115007 - 9.914095371669 T_{co}} \\right)}} + 12723750.0$"
      ],
      "text/plain": [
       "-42412.5*T_co + 4878.6*(8.914095371669*T_co - 2674.2286115007)/log((450 - T_co)/(3124.2286115007 - 9.914095371669*T_co)) + 12723750.0"
      ]
     },
     "execution_count": 61,
     "metadata": {},
     "output_type": "execute_result"
    }
   ],
   "source": [
    "#subsituting values\n",
    "\n",
    "f = f.subs([\n",
    "    (M_c,values['M_c']),\n",
    "    (M_h, values['M_h']),\n",
    "    (Cp_c, values['Cp_c']),\n",
    "    (Cp_h, values['Cp_h']),\n",
    "    (T_hi, values['T_hi']),\n",
    "    (T_ci, values['T_ci']),\n",
    "    (U, values['U']),\n",
    "    (A, values['A']),\n",
    "]).evalf()\n",
    "f"
   ]
  },
  {
   "cell_type": "code",
   "execution_count": 62,
   "metadata": {},
   "outputs": [
    {
     "data": {
      "text/latex": [
       "$\\displaystyle -42412.5 + \\frac{43488.3056802244}{\\log{\\left(\\frac{450 - T_{co}}{3124.2286115007 - 9.914095371669 T_{co}} \\right)}} - \\frac{4878.6 \\cdot \\left(3124.2286115007 - 9.914095371669 T_{co}\\right) \\left(8.914095371669 T_{co} - 2674.2286115007\\right) \\left(- \\frac{1}{3124.2286115007 - 9.914095371669 T_{co}} + \\frac{1.01570474606413 \\cdot 10^{-6} \\cdot \\left(450 - T_{co}\\right)}{\\left(1 - 0.00317329382849062 T_{co}\\right)^{2}}\\right)}{\\left(450 - T_{co}\\right) \\log{\\left(\\frac{450 - T_{co}}{3124.2286115007 - 9.914095371669 T_{co}} \\right)}^{2}}$"
      ],
      "text/plain": [
       "-42412.5 + 43488.3056802244/log((450 - T_co)/(3124.2286115007 - 9.914095371669*T_co)) - 4878.6*(3124.2286115007 - 9.914095371669*T_co)*(8.914095371669*T_co - 2674.2286115007)*(-1/(3124.2286115007 - 9.914095371669*T_co) + 1.01570474606413e-6*(450 - T_co)/(1 - 0.00317329382849062*T_co)**2)/((450 - T_co)*log((450 - T_co)/(3124.2286115007 - 9.914095371669*T_co))**2)"
      ]
     },
     "execution_count": 62,
     "metadata": {},
     "output_type": "execute_result"
    }
   ],
   "source": [
    "#differentiating\n",
    "\n",
    "df_dTco = sp.diff(f, T_co)\n",
    "df_dTco"
   ]
  },
  {
   "cell_type": "code",
   "execution_count": 63,
   "metadata": {},
   "outputs": [
    {
     "name": "stdout",
     "output_type": "stream",
     "text": [
      "T_co: 310.0676 degF\n",
      "Time taken: 0.057022809982299805 second\n",
      "╒═══════╤═══════════╤═══════════╤═══════════════╤═══════════════╤════════════╕\n",
      "│   itr │   Vm_prev │   Vm_next │   fn(Vm_prev) │   fn(Vm_next) │      error │\n",
      "╞═══════╪═══════════╪═══════════╪═══════════════╪═══════════════╪════════════╡\n",
      "│     1 │   301     │   310.534 │ 662531        │ -37276.6      │ 9.5341     │\n",
      "├───────┼───────────┼───────────┼───────────────┼───────────────┼────────────┤\n",
      "│     2 │   310.534 │   310.071 │ -37276.6      │   -301.768    │ 0.4627     │\n",
      "├───────┼───────────┼───────────┼───────────────┼───────────────┼────────────┤\n",
      "│     3 │   310.071 │   310.068 │   -301.768    │     -0.516403 │ 0.00379944 │\n",
      "├───────┼───────────┼───────────┼───────────────┼───────────────┼────────────┤\n",
      "│     4 │   310.068 │   310.068 │     -0.516396 │     -0.516403 │ 0          │\n",
      "╘═══════╧═══════════╧═══════════╧═══════════════╧═══════════════╧════════════╛\n"
     ]
    }
   ],
   "source": [
    "itr_table = [['itr', 'Vm_prev', 'Vm_next',\n",
    "              'fn(Vm_prev)', 'fn(Vm_next)', 'error']]\n",
    "initial_guess = 301\n",
    "tolerance = 1e-3\n",
    "start = time.time()\n",
    "\n",
    "#try except block to handle abstard values\n",
    "try:\n",
    "  result_NR = NR(f, df_dTco, initial_guess, tolerance)\n",
    "  end = time.time()\n",
    "  print('T_co:', str(result_NR)+' degF')\n",
    "  print(f'Time taken: {end-start} second')\n",
    "  print(tabulate(itr_table, headers='firstrow', tablefmt='fancy_grid'))\n",
    "\n",
    "except:\n",
    "  print('Error: T_co is not found. Please check the values entered.')\n",
    "  exit()\n",
    "    "
   ]
  },
  {
   "cell_type": "code",
   "execution_count": 64,
   "metadata": {},
   "outputs": [],
   "source": [
    "T_co_cn_curr = T_co.subs(T_co, result_NR)\n",
    "\n",
    "T_ho_cn_curr = T_ho.subs([\n",
    "  (M_c,values['M_c']),\n",
    "  (M_h, values['M_h']),\n",
    "  (Cp_c, values['Cp_c']),\n",
    "  (Cp_h, values['Cp_h']),\n",
    "  (T_hi, values['T_hi']),\n",
    "  (T_ci, values['T_ci']),\n",
    "  (T_co, T_co_cn_curr),\n",
    "]).evalf().round(int(-sp.log(tolerance, 10).evalf()+1))"
   ]
  },
  {
   "cell_type": "code",
   "execution_count": 65,
   "metadata": {},
   "outputs": [
    {
     "name": "stdout",
     "output_type": "stream",
     "text": [
      "For counter-current flow, T_co = 310.0676 degF and T_ho = 350.1889 degF\n"
     ]
    }
   ],
   "source": [
    "print('For counter-current flow, T_co =', T_co_cn_curr, 'degF', 'and T_ho =', T_ho_cn_curr, 'degF')"
   ]
  },
  {
   "attachments": {},
   "cell_type": "markdown",
   "metadata": {},
   "source": [
    "### Final Result\n"
   ]
  },
  {
   "cell_type": "code",
   "execution_count": 66,
   "metadata": {},
   "outputs": [
    {
     "name": "stdout",
     "output_type": "stream",
     "text": [
      "╒═════════════════╤═══════════════╤═══════════════╤═══════════════╤═══════════════╕\n",
      "│ Flow            │   T_hi (degF) │   T_ci (fegF) │   T_co (degF) │   T_ho (degF) │\n",
      "╞═════════════════╪═══════════════╪═══════════════╪═══════════════╪═══════════════╡\n",
      "│ co-current      │           450 │           300 │       309.827 │       352.571 │\n",
      "├─────────────────┼───────────────┼───────────────┼───────────────┼───────────────┤\n",
      "│ counter-current │           450 │           300 │       310.068 │       350.189 │\n",
      "╘═════════════════╧═══════════════╧═══════════════╧═══════════════╧═══════════════╛\n"
     ]
    }
   ],
   "source": [
    "result = [\n",
    "        ['Flow', 'T_hi (degF)', 'T_ci (fegF)', 'T_co (degF)', 'T_ho (degF)'],\n",
    "        ['co-current', values['T_hi'], values['T_ci'], T_co_co_curr, T_ho_co_curr],\n",
    "        ['counter-current', values['T_hi'], values['T_ci'], T_co_cn_curr, T_ho_cn_curr]\n",
    "        ]\n",
    "\n",
    "print(tabulate(result, headers='firstrow', tablefmt='fancy_grid'))"
   ]
  }
 ],
 "metadata": {
  "kernelspec": {
   "display_name": "Python 3 (ipykernel)",
   "language": "python",
   "name": "python3"
  },
  "language_info": {
   "codemirror_mode": {
    "name": "ipython",
    "version": 3
   },
   "file_extension": ".py",
   "mimetype": "text/x-python",
   "name": "python",
   "nbconvert_exporter": "python",
   "pygments_lexer": "ipython3",
   "version": "3.10.6"
  },
  "orig_nbformat": 4,
  "vscode": {
   "interpreter": {
    "hash": "31f2aee4e71d21fbe5cf8b01ff0e069b9275f58929596ceb00d14d90e3e16cd6"
   }
  }
 },
 "nbformat": 4,
 "nbformat_minor": 2
}
